{
 "cells": [
  {
   "cell_type": "code",
   "execution_count": 1,
   "id": "differential-things",
   "metadata": {},
   "outputs": [],
   "source": [
    "import numpy as np\n",
    "import matplotlib.pyplot as plt\n",
    "import math\n",
    "from IPython.display import Audio\n",
    "%matplotlib widget"
   ]
  },
  {
   "cell_type": "code",
   "execution_count": 2,
   "id": "organized-coating",
   "metadata": {},
   "outputs": [],
   "source": [
    "sigLength = 500;\n",
    "nTrials = 200;"
   ]
  },
  {
   "cell_type": "code",
   "execution_count": 3,
   "id": "modular-appliance",
   "metadata": {},
   "outputs": [],
   "source": [
    "# generate data for stationarity test question:\n",
    "sigma = np.linspace(0.5,0.2,sigLength)\n",
    "eeg2 = np.random.default_rng().normal(loc=0, scale=sigma, size=(nTrials, sigLength))\n",
    "mu = np.linspace(0,0.3,sigLength)\n",
    "eeg1 = np.random.default_rng().normal(loc=mu, scale=0.2, size=(nTrials, sigLength))\n",
    "sigma = np.abs(np.random.normal(0, 0.4, nTrials))\n",
    "# sigma= sigma.reshape(1,-1)\n",
    "# sigma.shape\n",
    "# eeg3 = np.random.default_rng().normal(loc=0, scale=sigma, size=(nTrials, sigLength))\n",
    "eeg3 = np.zeros((nTrials, sigLength))\n",
    "for i, s in enumerate(sigma):\n",
    "    eeg3[i,:] = np.random.default_rng().normal(loc=0, scale=s, size=sigLength)"
   ]
  },
  {
   "cell_type": "code",
   "execution_count": 4,
   "id": "handy-leone",
   "metadata": {},
   "outputs": [
    {
     "data": {
      "text/plain": [
       "(200,)"
      ]
     },
     "execution_count": 4,
     "metadata": {},
     "output_type": "execute_result"
    }
   ],
   "source": [
    "sigma.shape"
   ]
  },
  {
   "cell_type": "code",
   "execution_count": 5,
   "id": "subject-wells",
   "metadata": {},
   "outputs": [
    {
     "data": {
      "application/vnd.jupyter.widget-view+json": {
       "model_id": "3d2c1e438931430b86b505a6683db83a",
       "version_major": 2,
       "version_minor": 0
      },
      "text/plain": [
       "Canvas(toolbar=Toolbar(toolitems=[('Home', 'Reset original view', 'home', 'home'), ('Back', 'Back to previous …"
      ]
     },
     "metadata": {},
     "output_type": "display_data"
    }
   ],
   "source": [
    "# plotting samples of each:\n",
    "fig, ax = plt.subplots(figsize=(12,4), nrows=3, ncols=3)\n",
    "ax[0,0].plot(eeg2[0])\n",
    "ax[1,0].plot(eeg2[1])\n",
    "ax[2,0].plot(eeg2[2])\n",
    "ax[0,1].plot(eeg1[0])\n",
    "ax[1,1].plot(eeg1[1])\n",
    "ax[2,1].plot(eeg1[2])\n",
    "ax[0,2].plot(eeg3[0])\n",
    "ax[1,2].plot(eeg3[1])\n",
    "ax[2,2].plot(eeg3[2])\n",
    "plt.tight_layout()"
   ]
  },
  {
   "cell_type": "code",
   "execution_count": 6,
   "id": "short-marketplace",
   "metadata": {},
   "outputs": [
    {
     "data": {
      "text/plain": [
       "0.3780833931378882"
      ]
     },
     "execution_count": 6,
     "metadata": {},
     "output_type": "execute_result"
    }
   ],
   "source": [
    "eeg2[4,:].std()"
   ]
  },
  {
   "cell_type": "code",
   "execution_count": 7,
   "id": "handed-somewhere",
   "metadata": {},
   "outputs": [],
   "source": [
    "np.savetxt('eeg1.csv', eeg1, delimiter=',')\n",
    "np.savetxt('eeg2.csv', eeg2, delimiter=',')\n",
    "np.savetxt('eeg3.csv', eeg3, delimiter=',')"
   ]
  },
  {
   "cell_type": "code",
   "execution_count": 8,
   "id": "gothic-contact",
   "metadata": {},
   "outputs": [],
   "source": [
    "data = np.genfromtxt('eeg1.csv', delimiter=',')"
   ]
  },
  {
   "cell_type": "code",
   "execution_count": 9,
   "id": "executed-america",
   "metadata": {},
   "outputs": [],
   "source": [
    "r = np.arange(0, 30*np.pi, .01)\n",
    "invr = np.arange(30*np.pi, 0, -.01)\n",
    "v = np.sqrt(r*3) + np.sin(r) + np.sqrt(invr) + np.cos(r/3)\n",
    "noise = np.random.default_rng().normal(loc=0, scale=0.3, size=len(r))\n",
    "signal1 = v+noise\n",
    "v = np.sin(r*2) + np.sqrt(invr) + (r/10)**2\n",
    "signal2 = r/10+noise"
   ]
  },
  {
   "cell_type": "code",
   "execution_count": 10,
   "id": "comprehensive-supplier",
   "metadata": {},
   "outputs": [
    {
     "data": {
      "application/vnd.jupyter.widget-view+json": {
       "model_id": "3cf3d974d88e417bb77da499923311be",
       "version_major": 2,
       "version_minor": 0
      },
      "text/plain": [
       "Canvas(toolbar=Toolbar(toolitems=[('Home', 'Reset original view', 'home', 'home'), ('Back', 'Back to previous …"
      ]
     },
     "metadata": {},
     "output_type": "display_data"
    },
    {
     "data": {
      "text/plain": [
       "[<matplotlib.lines.Line2D at 0x2121000adc0>]"
      ]
     },
     "execution_count": 10,
     "metadata": {},
     "output_type": "execute_result"
    }
   ],
   "source": [
    "fig, ax = plt.subplots(figsize=(12,4), nrows=1, ncols=1)\n",
    "ax.plot(signal1)"
   ]
  },
  {
   "cell_type": "code",
   "execution_count": 11,
   "id": "agricultural-church",
   "metadata": {},
   "outputs": [
    {
     "name": "stdout",
     "output_type": "stream",
     "text": [
      "[-1.         -0.82539683 -0.65079365 -0.47619048 -0.3015873  -0.12698413\n",
      "  0.04761905  0.22222222  0.3968254   0.57142857  0.74603175  0.92063492\n",
      "  1.0952381   1.26984127  1.44444444  1.61904762  1.79365079  1.96825397\n",
      "  2.14285714  2.31746032  2.49206349  2.66666667  2.84126984  3.01587302\n",
      "  3.19047619  3.36507937  3.53968254  3.71428571  3.88888889  4.06349206\n",
      "  4.23809524  4.41269841  4.58730159  4.76190476  4.93650794  5.11111111\n",
      "  5.28571429  5.46031746  5.63492063  5.80952381  5.98412698  6.15873016\n",
      "  6.33333333  6.50793651  6.68253968  6.85714286  7.03174603  7.20634921\n",
      "  7.38095238  7.55555556  7.73015873  7.9047619   8.07936508  8.25396825\n",
      "  8.42857143  8.6031746   8.77777778  8.95238095  9.12698413  9.3015873\n",
      "  9.47619048  9.65079365  9.82539683 10.        ]\n"
     ]
    },
    {
     "data": {
      "application/vnd.jupyter.widget-view+json": {
       "model_id": "d5c3e9eb442e478597f206a647b2950b",
       "version_major": 2,
       "version_minor": 0
      },
      "text/plain": [
       "Canvas(toolbar=Toolbar(toolitems=[('Home', 'Reset original view', 'home', 'home'), ('Back', 'Back to previous …"
      ]
     },
     "metadata": {},
     "output_type": "display_data"
    },
    {
     "data": {
      "text/plain": [
       "[<matplotlib.lines.Line2D at 0x2120f03c7c0>]"
      ]
     },
     "execution_count": 11,
     "metadata": {},
     "output_type": "execute_result"
    }
   ],
   "source": [
    "def quantify(q_range, func, bits):\n",
    "    vals = np.linspace(q_range[0], q_range[1], bits**2)\n",
    "    print(vals)\n",
    "    q = [vals[np.argmin(np.abs(i-vals))] for i in func]\n",
    "    return q\n",
    "\n",
    "bits = 8\n",
    "q_range = [-1,10]\n",
    "q = quantify(q_range, signal2, bits)\n",
    "\n",
    "fig, ax = plt.subplots(figsize=(12,4), nrows=1, ncols=1)\n",
    "ax.plot(signal2)\n",
    "ax.plot(q)"
   ]
  },
  {
   "cell_type": "code",
   "execution_count": 12,
   "id": "incomplete-capture",
   "metadata": {},
   "outputs": [],
   "source": [
    "vals = [0,5,10,15]\n",
    "num = 1000\n",
    "signal1 = [vals[np.random.randint(0,4)] for i in range(num)]\n",
    "vals = np.linspace(8,22,16)\n",
    "signal2 = [vals[np.random.randint(0,16)] for i in range(num)]\n",
    "vals = [2,4,8,16,32,64,128,256]\n",
    "signal3 = [vals[np.random.randint(0,8)] for i in range(num)]"
   ]
  },
  {
   "cell_type": "code",
   "execution_count": 14,
   "id": "driving-individual",
   "metadata": {},
   "outputs": [
    {
     "data": {
      "text/plain": [
       "array([ 8.        ,  8.93333333,  9.86666667, 10.8       , 11.73333333,\n",
       "       12.66666667, 13.6       , 14.53333333, 15.46666667, 16.4       ,\n",
       "       17.33333333, 18.26666667, 19.2       , 20.13333333, 21.06666667,\n",
       "       22.        ])"
      ]
     },
     "execution_count": 14,
     "metadata": {},
     "output_type": "execute_result"
    }
   ],
   "source": [
    "np.unique(signal2)"
   ]
  },
  {
   "cell_type": "code",
   "execution_count": 16,
   "id": "everyday-secret",
   "metadata": {},
   "outputs": [
    {
     "data": {
      "application/vnd.jupyter.widget-view+json": {
       "model_id": "fe61c74041ab4293bb403a5e6c84cec3",
       "version_major": 2,
       "version_minor": 0
      },
      "text/plain": [
       "Canvas(toolbar=Toolbar(toolitems=[('Home', 'Reset original view', 'home', 'home'), ('Back', 'Back to previous …"
      ]
     },
     "metadata": {},
     "output_type": "display_data"
    },
    {
     "data": {
      "text/plain": [
       "[<matplotlib.lines.Line2D at 0x1da0cdec790>]"
      ]
     },
     "execution_count": 16,
     "metadata": {},
     "output_type": "execute_result"
    }
   ],
   "source": [
    "fig, ax = plt.subplots(figsize=(12,4), nrows=3, ncols=1)\n",
    "ax[0].plot(signal1)\n",
    "ax[1].plot(signal2)\n",
    "ax[2].plot(signal3)"
   ]
  },
  {
   "cell_type": "code",
   "execution_count": 17,
   "id": "balanced-ecology",
   "metadata": {},
   "outputs": [],
   "source": [
    "np.savetxt('signal1.csv', signal1, delimiter=',')\n",
    "np.savetxt('signal2.csv', signal2, delimiter=',')\n",
    "np.savetxt('signal3.csv', signal3, delimiter=',')"
   ]
  },
  {
   "cell_type": "code",
   "execution_count": 3,
   "id": "polar-reality",
   "metadata": {},
   "outputs": [
    {
     "data": {
      "application/vnd.jupyter.widget-view+json": {
       "model_id": "5aef842cf6514e00a96d9d8683debc39",
       "version_major": 2,
       "version_minor": 0
      },
      "text/plain": [
       "Canvas(toolbar=Toolbar(toolitems=[('Home', 'Reset original view', 'home', 'home'), ('Back', 'Back to previous …"
      ]
     },
     "metadata": {},
     "output_type": "display_data"
    }
   ],
   "source": [
    "# generate spikes\n",
    "samp = 10000\n",
    "rate = 32 / samp\n",
    "duration = 10\n",
    "\n",
    "spk_array = (np.random.uniform(size=samp*duration)<rate).astype(np.int32)\n",
    "fig, ax = plt.subplots(figsize=(12,4), nrows=1, ncols=1)\n",
    "ax.eventplot(np.nonzero(spk_array))\n",
    "# __ = ax.set_xticklabels(np.arange(-1,6))\n",
    "spk_times = np.array(np.nonzero(spk_array))/10000"
   ]
  },
  {
   "cell_type": "code",
   "execution_count": 34,
   "id": "democratic-jacket",
   "metadata": {},
   "outputs": [],
   "source": [
    "np.savetxt('spk_times.csv', spk_times, delimiter=',')"
   ]
  },
  {
   "cell_type": "code",
   "execution_count": null,
   "id": "committed-incentive",
   "metadata": {},
   "outputs": [],
   "source": []
  }
 ],
 "metadata": {
  "kernelspec": {
   "display_name": "Python 3",
   "language": "python",
   "name": "python3"
  },
  "language_info": {
   "codemirror_mode": {
    "name": "ipython",
    "version": 3
   },
   "file_extension": ".py",
   "mimetype": "text/x-python",
   "name": "python",
   "nbconvert_exporter": "python",
   "pygments_lexer": "ipython3",
   "version": "3.8.3"
  }
 },
 "nbformat": 4,
 "nbformat_minor": 5
}
