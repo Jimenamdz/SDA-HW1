{
 "cells": [
  {
   "cell_type": "markdown",
   "metadata": {},
   "source": [
    "# Part 1: Sampling & Quantization\n",
    "For each signal we choose an ADC input range equal to the signal’s min→max, and a 10-bit resolution (1024 levels), which yields a quantization step Δ≈range/1000."
   ]
  },
  {
   "cell_type": "code",
   "execution_count": null,
   "metadata": {},
   "outputs": [
    {
     "name": "stdout",
     "output_type": "stream",
     "text": [
      "Signal        Vmin    Vmax    Range    Δ (step)    Bits\n",
      "-------------------------------------------------------\n",
      "signal1      0.000  15.000   15.000       0.015      10\n",
      "signal2      8.000  22.000   14.000       0.014      10\n",
      "signal3      2.000 256.000  254.000       0.254      10\n"
     ]
    }
   ],
   "source": [
    "import numpy as np\n",
    "import math\n",
    "\n",
    "# Parameters\n",
    "files = ['signal1.csv', 'signal2.csv', 'signal3.csv']\n",
    "data_dir = '../data/'       \n",
    "target_levels = 1000        \n",
    "\n",
    "print(f\"{'Signal':<10}{'Vmin':>8}{'Vmax':>8}{'Range':>9}{'Δ (step)':>12}{'Bits':>8}\")\n",
    "print('-'*55)\n",
    "\n",
    "for fname in files:\n",
    "    # 1. Load data\n",
    "    data = np.loadtxt(f\"{data_dir}{fname}\", delimiter=',')\n",
    "    \n",
    "    # 2. Compute min, max, range\n",
    "    vmin, vmax = data.min(), data.max()\n",
    "    rng = vmax - vmin\n",
    "    \n",
    "    # 3. Choose quantization step Δ\n",
    "    delta = rng / target_levels\n",
    "    \n",
    "    # 4. Compute required bits N\n",
    "    levels_needed = rng / delta\n",
    "    N = math.ceil(math.log2(levels_needed + 1))\n",
    "    \n",
    "    # 5. Print \n",
    "    signal_label = fname.replace('.csv','')\n",
    "    print(f\"{signal_label:<10}{vmin:8.3f}{vmax:8.3f}{rng:9.3f}{delta:12.3f}{N:8d}\")\n"
   ]
  },
  {
   "cell_type": "markdown",
   "metadata": {},
   "source": [
    "# Part 1: Results Summary\n",
    "\n",
    "- **Signal 1**: Vmin = 0.000, Vmax = 15.000 → Range = 15.000 → 10 bits (Δ≈0.015)  \n",
    "- **Signal 2**: Vmin = 8.000, Vmax = 22.000 → Range = 14.000 → 10 bits (Δ≈0.014)  \n",
    "- **Signal 3**: Vmin = 2.000, Vmax = 256.000 → Range = 254.000 → 10 bits (Δ≈0.254)  \n",
    "\n",
    "Using a 10-bit ADC for all three signals yields ≈1000 levels, giving a quantization step of about 0.1 % of each range and ensuring fine resolution without excessive data size."
   ]
  }
 ],
 "metadata": {
  "kernelspec": {
   "display_name": "3.10.13",
   "language": "python",
   "name": "python3"
  },
  "language_info": {
   "codemirror_mode": {
    "name": "ipython",
    "version": 3
   },
   "file_extension": ".py",
   "mimetype": "text/x-python",
   "name": "python",
   "nbconvert_exporter": "python",
   "pygments_lexer": "ipython3",
   "version": "3.10.13"
  }
 },
 "nbformat": 4,
 "nbformat_minor": 2
}
